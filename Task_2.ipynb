{
 "cells": [
  {
   "cell_type": "code",
   "execution_count": 1,
   "metadata": {},
   "outputs": [],
   "source": [
    "import numpy as np"
   ]
  },
  {
   "cell_type": "code",
   "execution_count": 2,
   "metadata": {},
   "outputs": [],
   "source": [
    "A = np.zeros((4, 2))\n",
    "\n",
    "A[0, 0] = 1\n",
    "A[0, 1] = 1\n",
    "A[1, 0] = 2\n",
    "A[1, 1] = -1\n",
    "A[2, 0] = 1\n",
    "A[2, 1] = 3\n",
    "A[3, 0] = 3\n",
    "A[3, 1] = 1"
   ]
  },
  {
   "cell_type": "code",
   "execution_count": 3,
   "metadata": {},
   "outputs": [],
   "source": [
    "b = np.zeros(4)\n",
    "\n",
    "b[0] = 3\n",
    "b[1] = 0.2\n",
    "b[2] = 7\n",
    "b[3] = 5"
   ]
  },
  {
   "cell_type": "code",
   "execution_count": 4,
   "metadata": {},
   "outputs": [
    {
     "name": "stdout",
     "output_type": "stream",
     "text": [
      "[1.03741935 1.96774194]\n"
     ]
    }
   ],
   "source": [
    "X = np.dot(np.dot(np.linalg.inv(np.dot(A.transpose(), A)), A.transpose()), b)\n",
    "print(X)"
   ]
  }
 ],
 "metadata": {
  "kernelspec": {
   "display_name": "Python 3",
   "language": "python",
   "name": "python3"
  },
  "language_info": {
   "codemirror_mode": {
    "name": "ipython",
    "version": 3
   },
   "file_extension": ".py",
   "mimetype": "text/x-python",
   "name": "python",
   "nbconvert_exporter": "python",
   "pygments_lexer": "ipython3",
   "version": "3.7.1"
  }
 },
 "nbformat": 4,
 "nbformat_minor": 2
}
