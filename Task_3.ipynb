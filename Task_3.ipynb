{
 "cells": [
  {
   "cell_type": "markdown",
   "metadata": {},
   "source": [
    "# Task 6.9.28 (b)"
   ]
  },
  {
   "cell_type": "code",
   "execution_count": 1,
   "metadata": {},
   "outputs": [],
   "source": [
    "from matplotlib import pylab as plt\n",
    "import numpy as np\n",
    "from scipy import interpolate"
   ]
  },
  {
   "cell_type": "code",
   "execution_count": 2,
   "metadata": {},
   "outputs": [],
   "source": [
    "X = [0.1, 0.5, 0.9, 1.3, 1.7]\n",
    "Y = [-2.3026, -0.69315, -0.10536, 0.26236, 0.53063]"
   ]
  },
  {
   "cell_type": "code",
   "execution_count": 3,
   "metadata": {},
   "outputs": [],
   "source": [
    "def theoreticalSpline(x):\n",
    "    a, b, c, d = -0.693147, 2.72502, -4.86964, 4.32685\n",
    "    return a + b * (x - X[1]) + c * (x - X[1])**2 + d * (x - X[1])**3"
   ]
  },
  {
   "cell_type": "code",
   "execution_count": 4,
   "metadata": {},
   "outputs": [],
   "source": [
    "cubicSpline = interpolate.CubicSpline(X, Y, bc_type = ((2, 0.0), (2, 0.0)))\n",
    "# According to the documentation:\n",
    "# https://docs.scipy.org/doc/scipy-0.18.1/reference/generated/scipy.interpolate.CubicSpline.html\n",
    "# argument 'bc_type' is added to meet requirements about curvative"
   ]
  },
  {
   "cell_type": "code",
   "execution_count": 5,
   "metadata": {},
   "outputs": [
    {
     "name": "stdout",
     "output_type": "stream",
     "text": [
      "Ответ из задачника: -0.19708365\n",
      "Ответ, полученный при помощи сплайн-интерполяции: -0.19708112\n",
      "Расхождение: 2.53e-06\n"
     ]
    }
   ],
   "source": [
    "print('Ответ из задачника:', round(theoreticalSpline(0.8), 8))\n",
    "print('Ответ, полученный при помощи сплайн-интерполяции:', round(float(cubicSpline(0.8)), 8))\n",
    "print('Расхождение:', round(cubicSpline(0.8) - theoreticalSpline(0.8), 8))"
   ]
  },
  {
   "cell_type": "code",
   "execution_count": 6,
   "metadata": {},
   "outputs": [
    {
     "data": {
      "image/png": "[encoded data removed]",
      "text/plain": [
       "<Figure size 432x288 with 1 Axes>"
      ]
     },
     "metadata": {
      "needs_background": "light"
     },
     "output_type": "display_data"
    }
   ],
   "source": [
    "x = np.arange(0.45, 0.95, 0.01)\n",
    "plt.plot(x, cubicSpline(x), label = 'Experiment')\n",
    "plt.plot(x, theoreticalSpline(x), '.', label = 'Theory')\n",
    "plt.legend(loc='upper left')\n",
    "plt.grid()\n",
    "plt.show()"
   ]
  }
 ],
 "metadata": {
  "kernelspec": {
   "display_name": "Python 3",
   "language": "python",
   "name": "python3"
  },
  "language_info": {
   "codemirror_mode": {
    "name": "ipython",
    "version": 3
   },
   "file_extension": ".py",
   "mimetype": "text/x-python",
   "name": "python",
   "nbconvert_exporter": "python",
   "pygments_lexer": "ipython3",
   "version": "3.7.1"
  }
 },
 "nbformat": 4,
 "nbformat_minor": 2
}
